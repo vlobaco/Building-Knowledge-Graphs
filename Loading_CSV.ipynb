{
 "cells": [
  {
   "cell_type": "code",
   "execution_count": 2,
   "metadata": {},
   "outputs": [],
   "source": [
    "from dotenv import load_dotenv\n",
    "import os\n",
    "\n",
    "load_dotenv()\n",
    "\n",
    "#NEO4J_URI = os.environ.get(\"NEO4J_URI\")\n",
    "NEO4J_URI = \"bolt://localhost:7687\"\n",
    "#NEO4J_USERNAME = os.environ.get(\"NEO4J_USERNAME\")\n",
    "#NEO4J_PASSWORD = os.environ.get(\"NEO4J_PASSWORD\")"
   ]
  },
  {
   "cell_type": "code",
   "execution_count": 3,
   "metadata": {},
   "outputs": [],
   "source": [
    "from graphdatascience import GraphDataScience\n",
    "\n",
    "gds = GraphDataScience(NEO4J_URI)"
   ]
  },
  {
   "cell_type": "markdown",
   "metadata": {},
   "source": [
    "## Populating Neo4j"
   ]
  },
  {
   "cell_type": "code",
   "execution_count": 3,
   "metadata": {},
   "outputs": [
    {
     "name": "stdout",
     "output_type": "stream",
     "text": [
      "Loaded 2593 stations\n"
     ]
    }
   ],
   "source": [
    "import csv\n",
    "with open(\"data/nr-stations-all.csv\", \"r\", encoding=\"utf-8-sig\") as file:\n",
    "    reader = csv.DictReader(file)\n",
    "    stations = list(reader)\n",
    "\n",
    "print(f\"Loaded {len(stations)} stations\")"
   ]
  },
  {
   "cell_type": "code",
   "execution_count": 4,
   "metadata": {},
   "outputs": [],
   "source": [
    "# Load stations as nodes\n",
    "gds.run_cypher('match (n) detach delete(n)')\n",
    "for station in stations:\n",
    "    gds.run_cypher(f'CREATE (:Station {{name: \"{station[\"name\"]}\", crs: \"{station[\"crs\"]}\"}});')"
   ]
  },
  {
   "cell_type": "code",
   "execution_count": 5,
   "metadata": {},
   "outputs": [
    {
     "name": "stdout",
     "output_type": "stream",
     "text": [
      "Loaded 5802 links\n"
     ]
    }
   ],
   "source": [
    "import csv\n",
    "with open(\"data/nr-station-links.csv\", \"r\", encoding=\"utf-8-sig\") as file:\n",
    "    reader = csv.DictReader(file)\n",
    "    links = list(reader)\n",
    "\n",
    "print(f\"Loaded {len(links)} links\")"
   ]
  },
  {
   "cell_type": "code",
   "execution_count": 6,
   "metadata": {},
   "outputs": [],
   "source": [
    "for link in links:\n",
    "    gds.run_cypher(\n",
    "        f\"\"\"\n",
    "            MATCH (st_from: Station), (st_to: Station)\n",
    "            WHERE st_from.crs=\"{link[\"from\"]}\" and st_to.crs=\"{link[\"to\"]}\"\n",
    "            MERGE (st_from)-[:TRACK {{distance: {round(float(link[\"distance\"]), 2)}}}]->(st_to)\n",
    "        \"\"\")"
   ]
  },
  {
   "cell_type": "markdown",
   "metadata": {},
   "source": [
    "## Creating a graph"
   ]
  },
  {
   "cell_type": "code",
   "execution_count": 10,
   "metadata": {},
   "outputs": [
    {
     "data": {
      "text/plain": [
       "(<graphdatascience.graph.graph_object.Graph at 0x7fba6aad6cc0>,\n",
       " nodeQuery                         MATCH (s:Station) RETURN id(s) AS id\n",
       " relationshipQuery    MATCH (s1:Station)-[t:TRACK]->(s2:Station)\\n  ...\n",
       " graphName                                                       trains\n",
       " nodeCount                                                         2593\n",
       " relationshipCount                                                 5782\n",
       " projectMillis                                                       72\n",
       " Name: 0, dtype: object)"
      ]
     },
     "execution_count": 10,
     "metadata": {},
     "output_type": "execute_result"
    }
   ],
   "source": [
    "gds.graph.drop(gds.graph.get(\"trains\"))\n",
    "\n",
    "gds.graph.project.cypher(\n",
    "    graph_name=\"trains\",\n",
    "    node_spec=\"MATCH (s:Station) RETURN id(s) AS id\",\n",
    "    relationship_spec=\n",
    "        \"\"\"\n",
    "        MATCH (s1:Station)-[t:TRACK]->(s2:Station)\n",
    "        RETURN id(s1) AS source, id(s2) AS target, t.distance AS distance\n",
    "        \"\"\"\n",
    ")"
   ]
  },
  {
   "cell_type": "markdown",
   "metadata": {},
   "source": [
    "## Calculating the shortest path"
   ]
  },
  {
   "cell_type": "code",
   "execution_count": 11,
   "metadata": {},
   "outputs": [
    {
     "name": "stdout",
     "output_type": "stream",
     "text": [
      "Shortest distance: 295.91\n"
     ]
    }
   ],
   "source": [
    "bham = gds.find_node_id([\"Station\"], {\"name\": \"Birmingham New Street\"})\n",
    "eboro = gds.find_node_id([\"Station\"], {\"name\": \"Edinburgh\"})\n",
    "\n",
    "shortest_path = gds.shortestPath.dijkstra.stream(\n",
    "    gds.graph.get(\"trains\"),\n",
    "    sourceNode=bham,\n",
    "    targetNode=eboro,\n",
    "    relationshipWeightProperty=\"distance\"\n",
    ")\n",
    "\n",
    "print(f\"Shortest distance: {shortest_path.get('costs').get(0)[-1]}\")"
   ]
  },
  {
   "cell_type": "markdown",
   "metadata": {},
   "source": [
    "## Calculating centrality"
   ]
  },
  {
   "cell_type": "code",
   "execution_count": 11,
   "metadata": {},
   "outputs": [
    {
     "name": "stdout",
     "output_type": "stream",
     "text": [
      "Station with the highest centrality: Tamworth\n"
     ]
    }
   ],
   "source": [
    "graph = gds.graph.get(\"trains\")\n",
    "result = gds.betweenness.stream(graph)\n",
    "highest_score = result.sort_values(by=\"score\", ascending=False).iloc[0:1].get(\"nodeId\")\n",
    "\n",
    "n = gds.run_cypher(\n",
    "    f\"\"\"\n",
    "    MATCH (s: Station)\n",
    "    WHERE ID(s)={int(highest_score)}\n",
    "    RETURN s.name\n",
    "    \"\"\"\n",
    ")\n",
    "print(f\"Station with the highest centrality: {n['s.name'][0]}\")"
   ]
  },
  {
   "cell_type": "markdown",
   "metadata": {},
   "source": [
    "## Closing connection"
   ]
  },
  {
   "cell_type": "code",
   "execution_count": 12,
   "metadata": {},
   "outputs": [],
   "source": [
    "gds.close()"
   ]
  }
 ],
 "metadata": {
  "kernelspec": {
   "display_name": ".venv",
   "language": "python",
   "name": "python3"
  },
  "language_info": {
   "codemirror_mode": {
    "name": "ipython",
    "version": 3
   },
   "file_extension": ".py",
   "mimetype": "text/x-python",
   "name": "python",
   "nbconvert_exporter": "python",
   "pygments_lexer": "ipython3",
   "version": "3.6.8"
  }
 },
 "nbformat": 4,
 "nbformat_minor": 2
}
