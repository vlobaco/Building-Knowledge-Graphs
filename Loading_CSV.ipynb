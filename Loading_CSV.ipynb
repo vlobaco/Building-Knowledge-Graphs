{
 "cells": [
  {
   "cell_type": "code",
   "execution_count": null,
   "metadata": {},
   "outputs": [],
   "source": [
    "from dotenv import load_dotenv\n",
    "import os\n",
    "\n",
    "load_dotenv()\n",
    "\n",
    "#NEO4J_URI = os.environ.get(\"NEO4J_URI\")\n",
    "NEO4J_URI = \"bolt://localhost:7687\"\n",
    "#NEO4J_USERNAME = os.environ.get(\"NEO4J_USERNAME\")\n",
    "#NEO4J_PASSWORD = os.environ.get(\"NEO4J_PASSWORD\")"
   ]
  },
  {
   "cell_type": "code",
   "execution_count": 7,
   "metadata": {},
   "outputs": [],
   "source": [
    "from graphdatascience import GraphDataScience\n",
    "\n",
    "gds = GraphDataScience(NEO4J_URI)"
   ]
  },
  {
   "cell_type": "code",
   "execution_count": 30,
   "metadata": {},
   "outputs": [
    {
     "name": "stdout",
     "output_type": "stream",
     "text": [
      "Loaded 2593 stations\n"
     ]
    }
   ],
   "source": [
    "import csv\n",
    "with open(\"data/nr-stations-all.csv\", \"r\", encoding=\"utf-8-sig\") as file:\n",
    "    reader = csv.DictReader(file)\n",
    "    stations = list(reader)\n",
    "\n",
    "print(f\"Loaded {len(stations)} stations\")"
   ]
  },
  {
   "cell_type": "code",
   "execution_count": 32,
   "metadata": {},
   "outputs": [],
   "source": [
    "# Load stations as nodes\n",
    "gds.run_cypher('match (n) detach delete(n)')\n",
    "for station in stations:\n",
    "    gds.run_cypher(f'CREATE (:Station {{name: \"{station[\"name\"]}\", crs: \"{station[\"crs\"]}\"}});')"
   ]
  },
  {
   "cell_type": "code",
   "execution_count": 27,
   "metadata": {},
   "outputs": [
    {
     "name": "stdout",
     "output_type": "stream",
     "text": [
      "Loaded 5802 links\n"
     ]
    }
   ],
   "source": [
    "import csv\n",
    "with open(\"data/nr-station-links.csv\", \"r\", encoding=\"utf-8-sig\") as file:\n",
    "    reader = csv.DictReader(file)\n",
    "    links = list(reader)\n",
    "\n",
    "print(f\"Loaded {len(links)} links\")"
   ]
  },
  {
   "cell_type": "code",
   "execution_count": 34,
   "metadata": {},
   "outputs": [],
   "source": [
    "for link in links:\n",
    "    gds.run_cypher(\n",
    "        f\"\"\"\n",
    "            MATCH (st_from: Station), (st_to: Station)\n",
    "            WHERE st_from.crs=\"{link[\"from\"]}\" and st_to.crs=\"{link[\"to\"]}\"\n",
    "            MERGE (st_from)-[:TRACK {{distance: {round(float(link[\"distance\"]), 2)}}}]->(st_to)\n",
    "        \"\"\")"
   ]
  }
 ],
 "metadata": {
  "kernelspec": {
   "display_name": ".venv",
   "language": "python",
   "name": "python3"
  },
  "language_info": {
   "codemirror_mode": {
    "name": "ipython",
    "version": 3
   },
   "file_extension": ".py",
   "mimetype": "text/x-python",
   "name": "python",
   "nbconvert_exporter": "python",
   "pygments_lexer": "ipython3",
   "version": "3.6.8"
  }
 },
 "nbformat": 4,
 "nbformat_minor": 2
}
